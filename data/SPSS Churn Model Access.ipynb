{
 "cells": [
  {
   "cell_type": "markdown",
   "metadata": {
    "collapsed": true
   },
   "source": [
    "## Access an SPSS ML model\n",
    "This notebook shows how to access the information to a model withn a Watson Machine learning service\n",
    "\n",
    "The first step is to get the credentials from the Watson service. This can be found in the user's bluemix account.\n",
    "\n",
    "The first thing to do is to put the proper `wml_credentials` in the first cell.\n",
    "\n",
    "Note that the notebook assumes a model name of `SPSS Churn Model` with only one deployment.<br/>\n",
    "You can change that name by modifying the `model_name` variable in the first cell."
   ]
  },
  {
   "cell_type": "code",
   "execution_count": null,
   "metadata": {},
   "outputs": [],
   "source": [
    "import urllib3, requests, json\n",
    "\n",
    "# retrieve your wml_service_credentials_username, wml_service_credentials_password, and wml_service_credentials_url from the\n",
    "# Service credentials associated with your IBM Cloud Watson Machine Learning Service instance\n",
    "\n",
    "wml_credentials= {\n",
    "  \"apikey\": \"X. . .kooOV\",\n",
    "  \"iam_apikey_description\": \"Auto generated apikey during resource-key operation for Instance - crn:v1:bluemix:public:pm-20:us-south:a/e46675b7f1bf89b09b5badfb3bd4a7b5:672f8d2a-4f11-41bf-96ce-a92cccf5cfa8::\",\n",
    "  \"iam_apikey_name\": \"auto-generated-apikey-ab3b8bf1-87ed-4242-a6ab-0cd3aa3cd23f\",\n",
    "  \"iam_role_crn\": \"crn:v1:bluemix:public:iam::::serviceRole:Writer\",\n",
    "  \"iam_serviceid_crn\": \"crn:v1:bluemix:public:iam-identity::a/e46675b7f1bf89b09b5badfb3bd4a7b5::serviceid:ServiceId-ededa4b9-4515-418c-92cf-cd84e98f8bac\",\n",
    "  \"instance_id\": \"672f8d2a-4f11-41bf-96ce-a92cccf5cfa8\",\n",
    "  \"password\": \"d7b. . .444a6682018\",\n",
    "  \"url\": \"https://us-south.ml.cloud.ibm.com\",\n",
    "  \"username\": \"ab3. . .aa3cd23f\"\n",
    "}\n",
    "\n",
    "# Get an IAM token from IBM Cloud\n",
    "url     = \"https://iam.bluemix.net/oidc/token\"\n",
    "headers = { \"Content-Type\" : \"application/x-www-form-urlencoded\" }\n",
    "data    = \"apikey=\" + wml_credentials[\"apikey\"] + \"&grant_type=urn:ibm:params:oauth:grant-type:apikey\"\n",
    "IBM_cloud_IAM_uid = \"bx\"\n",
    "IBM_cloud_IAM_pwd = \"bx\"\n",
    "response  = requests.post( url, headers=headers, data=data, auth=( IBM_cloud_IAM_uid, IBM_cloud_IAM_pwd ) )\n",
    "iam_token = response.json()[\"access_token\"]\n",
    "\n",
    "header = {'Content-Type': 'application/json', 'Authorization': 'Bearer ' + iam_token}\n",
    "model_name = 'SPSS Churn Model'"
   ]
  },
  {
   "cell_type": "markdown",
   "metadata": {},
   "source": [
    "## Explore the Watson Machine Learning Service\n",
    "The next several cells shows us how to get to the information related to the models attached to this service and their publishing and deployment information. "
   ]
  },
  {
   "cell_type": "code",
   "execution_count": null,
   "metadata": {},
   "outputs": [],
   "source": [
    "# Get the information about the Watson service instance. \n",
    "response_instances = requests.get(wml_credentials['url'] + \"/v3/wml_instances/\" + wml_credentials['instance_id'], headers=header)\n",
    "instances_json = json.loads(response_instances.text)\n",
    "print (json.dumps(instances_json, indent=2, sort_keys=True))"
   ]
  },
  {
   "cell_type": "code",
   "execution_count": null,
   "metadata": {},
   "outputs": [],
   "source": [
    "# Get the information on the published models\n",
    "response_published = requests.get(instances_json['entity']['published_models']['url'], headers=header)\n",
    "published_json = json.loads(response_published.text)\n",
    "print (json.dumps(published_json, indent=2, sort_keys=True))"
   ]
  },
  {
   "cell_type": "markdown",
   "metadata": {},
   "source": [
    "## Select the information for a specific model\n",
    "There could be multiple models in this service, we find the one that corresponds to the SPSS model"
   ]
  },
  {
   "cell_type": "code",
   "execution_count": null,
   "metadata": {},
   "outputs": [],
   "source": [
    "# Find the entry for the proper servide, display the index and name to make sure we got the right one\n",
    "model_index=-1\n",
    "# print(published_json['resources'][0]['entity']['name'])\n",
    "for ix in range(len(published_json['resources'])) :\n",
    "    if (published_json['resources'][ix]['entity']['name'] == model_name) :\n",
    "        model_index = ix\n",
    "print('Index ' + str(model_index) + ' - ' + published_json['resources'][model_index]['entity']['name'])"
   ]
  },
  {
   "cell_type": "code",
   "execution_count": null,
   "metadata": {},
   "outputs": [],
   "source": [
    "# Display the fields required for the scoring and their types\n",
    "for ix in range(len(published_json['resources'][model_index]['entity']['input_data_schema']['fields'])) :\n",
    "    print(published_json['resources'][model_index]['entity']['input_data_schema']['fields'][ix]['name'] + ',' +\n",
    "          published_json['resources'][model_index]['entity']['input_data_schema']['fields'][ix]['type'])"
   ]
  },
  {
   "cell_type": "code",
   "execution_count": null,
   "metadata": {},
   "outputs": [],
   "source": [
    "# Get the information on the deployed models\n",
    "response_deployed = requests.get(published_json['resources'][model_index]['entity']['deployments']['url'], headers=header)\n",
    "deployed_json = json.loads(response_deployed.text)\n",
    "print (json.dumps(deployed_json, indent=2, sort_keys=True))"
   ]
  },
  {
   "cell_type": "markdown",
   "metadata": {},
   "source": [
    "## Prepare some data and then score it"
   ]
  },
  {
   "cell_type": "code",
   "execution_count": null,
   "metadata": {},
   "outputs": [],
   "source": [
    "# Initialize test data\n",
    "# Customer 1: \"T\", Customer 6: \"F\"\n",
    "cust_1 = [1, \"?\", \"F\",\"S\",1.000000,38000.000000,\"N\",24.393333,23.560000,0.000000,206.080000,0.000000,\"CC\",\"Budget\",\"Intnl_discount\",229.640000,3.000000]\n",
    "cust_6 = [6, \"?\", \"M\",\"M\",2.000000,29616.000000,\"N\",49.426667,29.780000,0.000000,45.500000,0.000000,\"CH\",\"FreeLocal\",\"Standard\",75.290000,2.000000]"
   ]
  },
  {
   "cell_type": "code",
   "execution_count": null,
   "metadata": {},
   "outputs": [],
   "source": [
    "# NOTE: manually define and pass the array(s) of values to be scored in the next line\n",
    "payload_scoring = {\"fields\": [\"ID\", \"CHURN\", \"Gender\", \"Status\", \"Children\", \"Est Income\", \"Car Owner\", \"Age\", \"LongDistance\", \"International\", \"Local\", \"Dropped\", \"Paymethod\", \"LocalBilltype\", \"LongDistanceBilltype\", \"Usage\", \"RatePlan\"], \"values\": [cust_1, cust_6]}\n",
    "response_scoring = requests.post(deployed_json['resources'][0]['entity']['scoring_url'], json=payload_scoring, headers=header)\n",
    "\n",
    "print(\"Scoring response code:\" + str(response_scoring))\n",
    "scoring_json = json.loads(response_scoring.text)\n",
    "print(json.dumps(scoring_json, indent=2, sort_keys=True) )"
   ]
  },
  {
   "cell_type": "code",
   "execution_count": null,
   "metadata": {},
   "outputs": [],
   "source": [
    "# Print ID, $XF-CHURN, $XFC-CHURN\n",
    "for ix in range(len(scoring_json['values'])) :\n",
    "    print(\"ID: \" + str(scoring_json['values'][ix][0]) + ', result: ' + str(scoring_json['values'][ix][17:]))"
   ]
  },
  {
   "cell_type": "code",
   "execution_count": null,
   "metadata": {},
   "outputs": [],
   "source": []
  }
 ],
 "metadata": {
  "kernelspec": {
   "display_name": "Python 3.6",
   "language": "python",
   "name": "python3"
  },
  "language_info": {
   "codemirror_mode": {
    "name": "ipython",
    "version": 3
   },
   "file_extension": ".py",
   "mimetype": "text/x-python",
   "name": "python",
   "nbconvert_exporter": "python",
   "pygments_lexer": "ipython3",
   "version": "3.6.9"
  }
 },
 "nbformat": 4,
 "nbformat_minor": 1
}
